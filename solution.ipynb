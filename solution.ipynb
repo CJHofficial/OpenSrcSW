{
 "cells": [
  {
   "cell_type": "code",
   "execution_count": 50,
   "metadata": {},
   "outputs": [
    {
     "name": "stdout",
     "output_type": "stream",
     "text": [
      "( 1 , 2 )\n",
      "( 3 , 4 )\n"
     ]
    },
    {
     "ename": "AttributeError",
     "evalue": "'NoneType' object has no attribute 'show'",
     "output_type": "error",
     "traceback": [
      "\u001b[1;31m---------------------------------------------------------------------------\u001b[0m",
      "\u001b[1;31mAttributeError\u001b[0m                            Traceback (most recent call last)",
      "\u001b[1;32m<ipython-input-50-9f376150ef0f>\u001b[0m in \u001b[0;36m<module>\u001b[1;34m\u001b[0m\n\u001b[0;32m     22\u001b[0m \u001b[1;33m\u001b[0m\u001b[0m\n\u001b[0;32m     23\u001b[0m \u001b[0ma\u001b[0m\u001b[1;33m=\u001b[0m \u001b[0ma\u001b[0m\u001b[1;33m+\u001b[0m\u001b[0mb\u001b[0m\u001b[1;33m\u001b[0m\u001b[1;33m\u001b[0m\u001b[0m\n\u001b[1;32m---> 24\u001b[1;33m \u001b[0ma\u001b[0m\u001b[1;33m.\u001b[0m\u001b[0mshow\u001b[0m\u001b[1;33m(\u001b[0m\u001b[1;33m)\u001b[0m\u001b[1;33m\u001b[0m\u001b[1;33m\u001b[0m\u001b[0m\n\u001b[0m",
      "\u001b[1;31mAttributeError\u001b[0m: 'NoneType' object has no attribute 'show'"
     ]
    }
   ],
   "source": [
    "class Point:\n",
    "    a=0\n",
    "    b=0\n",
    "    def __init__(self, i, j):\n",
    "        self.a = i\n",
    "        self.b = j\n",
    "    def __equal__(self, other):\n",
    "        self.a = other.a\n",
    "        self.b = other.b\n",
    "        \n",
    "    def show(self):\n",
    "        print(\"(\",self.a,\",\",self.b,\")\")\n",
    "    def __add__(self,other):\n",
    "        self.a = other.a + self.a\n",
    "        self.b = other.b + self.b\n",
    "    \n",
    "a = Point(1,2)\n",
    "a.show()\n",
    "\n",
    "b=Point(3,4)\n",
    "b.show()\n",
    "\n",
    "a= a+b\n",
    "a.show()"
   ]
  },
  {
   "cell_type": "code",
   "execution_count": 25,
   "metadata": {},
   "outputs": [
    {
     "name": "stdout",
     "output_type": "stream",
     "text": [
      "Max Week = 5/ 9 ~ 5/ 15\n"
     ]
    }
   ],
   "source": [
    "import csv\n",
    "\n",
    "f=open(\"seoul.csv\",\"r\", encoding=\"cp949\")\n",
    "data = csv.reader(f)\n",
    "next(data)\n",
    "check = 0\n",
    "sum = 0\n",
    "name=[]\n",
    "result ={}\n",
    "s = 0\n",
    "for row in data:\n",
    "    if check == 8:\n",
    "        result[sum] = name[0]+name[1]\n",
    "        sum = 0\n",
    "        check = 1\n",
    "        name=[]\n",
    "        sum += float(row[-1]) - float(row[-2])\n",
    "        if(check==1):\n",
    "            name.append(row[0].split('-')[2])       \n",
    "    else:\n",
    "        check += 1\n",
    "        sum += float(row[-1]) - float(row[-2])\n",
    "        if(check==1):\n",
    "            name.append(row[0].split('-')[2])\n",
    "        elif(check==7):\n",
    "            name.append(row[0].split('-')[2])\n",
    "result = sorted(result.items())\n",
    "#print(result[-1][1])\n",
    "s= result[-1][1]\n",
    "print(\"Max Week = 5/\", s[1],\"~\",\"5/\",s[2:])\n"
   ]
  },
  {
   "cell_type": "code",
   "execution_count": 64,
   "metadata": {
    "scrolled": true
   },
   "outputs": [
    {
     "name": "stdout",
     "output_type": "stream",
     "text": [
      "[[1 1 0 1 0 1]\n",
      " [1 1 1 0 1 0]\n",
      " [1 1 0 1 0 0]]\n",
      "[1 1 0 0 1 0]\n",
      "[2 3 2]\n"
     ]
    },
    {
     "data": {
      "image/png": "[encoded data removed]",
      "text/plain": [
       "<Figure size 432x288 with 1 Axes>"
      ]
     },
     "metadata": {
      "needs_background": "light"
     },
     "output_type": "display_data"
    }
   ],
   "source": [
    "import numpy as np\n",
    "import matplotlib.pyplot as plt\n",
    "\n",
    "D= np.array([1, 1, 0, 1, 0, 1, 1, 1, 1, 0, 1, 0, 1, 1, 0, 1, 0 ,0]).reshape(3,6)\n",
    "print(Docs)\n",
    "Q = np.array([1, 1, 0, 0, 1, 0])\n",
    "print(Q)\n",
    "result = np.dot(D,Q.T)\n",
    "print(result)\n",
    "Dsize = np.sum(D*D)\n",
    "Qsize = np.sum(Q*Q)\n",
    "#print(Dsize)\n",
    "#print(Qsize)\n",
    "result = result/(abs(Dsize)*abs(Qsize))\n",
    "\n",
    "xlabel = [\"doc1 = \"+str(result[0]),\"doc2 = \"+str(result[1]),\"doc3 = \"+str(result[2]) ]\n",
    "#xlabel = [\"doc1 = {0:0.2f}\".format(result[0]),\"doc1 = {0:0.2f}\".format(result[1]),\"doc1 = {0:0.2f}\".format(result[2])]\n",
    "#print(result)\n",
    "plt.title(\"Cosine similarities\")\n",
    "plt.bar(xlabel, result)\n",
    "plt.show()"
   ]
  },
  {
   "cell_type": "code",
   "execution_count": null,
   "metadata": {},
   "outputs": [],
   "source": []
  }
 ],
 "metadata": {
  "kernelspec": {
   "display_name": "Python 3",
   "language": "python",
   "name": "python3"
  },
  "language_info": {
   "codemirror_mode": {
    "name": "ipython",
    "version": 3
   },
   "file_extension": ".py",
   "mimetype": "text/x-python",
   "name": "python",
   "nbconvert_exporter": "python",
   "pygments_lexer": "ipython3",
   "version": "3.8.5"
  }
 },
 "nbformat": 4,
 "nbformat_minor": 4
}
